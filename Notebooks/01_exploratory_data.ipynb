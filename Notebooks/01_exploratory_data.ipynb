{
 "cells": [
  {
   "cell_type": "markdown",
   "id": "ff3f2612",
   "metadata": {},
   "source": [
    "# Exploratory Data Analysis (EDA)"
   ]
  },
  {
   "cell_type": "markdown",
   "id": "945025ac",
   "metadata": {},
   "source": [
    "This notebook is designed to perform exploratory data analysis on the mental health text classification dataset. It includes loading the dataset, visualizing class distributions, and analyzing text features."
   ]
  },
  {
   "cell_type": "markdown",
   "id": "29a4e59b",
   "metadata": {},
   "source": [
    "## Loading the Dataset"
   ]
  },
  {
   "cell_type": "code",
   "execution_count": 1,
   "id": "fe27e353",
   "metadata": {},
   "outputs": [],
   "source": [
    "import pandas as pd\n",
    "import matplotlib.pyplot as plt\n",
    "import seaborn as sns"
   ]
  },
  {
   "cell_type": "code",
   "execution_count": 2,
   "id": "32e3e88f",
   "metadata": {},
   "outputs": [],
   "source": [
    "df = pd.read_csv('../Data/Suicide_Detection.csv')"
   ]
  },
  {
   "cell_type": "code",
   "execution_count": 3,
   "id": "d5a752e6",
   "metadata": {},
   "outputs": [
    {
     "name": "stdout",
     "output_type": "stream",
     "text": [
      "<class 'pandas.core.frame.DataFrame'>\n",
      "RangeIndex: 232074 entries, 0 to 232073\n",
      "Data columns (total 3 columns):\n",
      " #   Column      Non-Null Count   Dtype \n",
      "---  ------      --------------   ----- \n",
      " 0   Unnamed: 0  232074 non-null  int64 \n",
      " 1   text        232074 non-null  object\n",
      " 2   class       232074 non-null  object\n",
      "dtypes: int64(1), object(2)\n",
      "memory usage: 5.3+ MB\n"
     ]
    }
   ],
   "source": [
    "df.info()"
   ]
  },
  {
   "cell_type": "code",
   "execution_count": 4,
   "id": "6997eea8",
   "metadata": {},
   "outputs": [
    {
     "data": {
      "text/html": [
       "<div>\n",
       "<style scoped>\n",
       "    .dataframe tbody tr th:only-of-type {\n",
       "        vertical-align: middle;\n",
       "    }\n",
       "\n",
       "    .dataframe tbody tr th {\n",
       "        vertical-align: top;\n",
       "    }\n",
       "\n",
       "    .dataframe thead th {\n",
       "        text-align: right;\n",
       "    }\n",
       "</style>\n",
       "<table border=\"1\" class=\"dataframe\">\n",
       "  <thead>\n",
       "    <tr style=\"text-align: right;\">\n",
       "      <th></th>\n",
       "      <th>text</th>\n",
       "      <th>class</th>\n",
       "    </tr>\n",
       "  </thead>\n",
       "  <tbody>\n",
       "    <tr>\n",
       "      <th>count</th>\n",
       "      <td>232074</td>\n",
       "      <td>232074</td>\n",
       "    </tr>\n",
       "    <tr>\n",
       "      <th>unique</th>\n",
       "      <td>232074</td>\n",
       "      <td>2</td>\n",
       "    </tr>\n",
       "    <tr>\n",
       "      <th>top</th>\n",
       "      <td>I still haven't beaten the first boss in Hollo...</td>\n",
       "      <td>suicide</td>\n",
       "    </tr>\n",
       "    <tr>\n",
       "      <th>freq</th>\n",
       "      <td>1</td>\n",
       "      <td>116037</td>\n",
       "    </tr>\n",
       "  </tbody>\n",
       "</table>\n",
       "</div>"
      ],
      "text/plain": [
       "                                                     text    class\n",
       "count                                              232074   232074\n",
       "unique                                             232074        2\n",
       "top     I still haven't beaten the first boss in Hollo...  suicide\n",
       "freq                                                    1   116037"
      ]
     },
     "execution_count": 4,
     "metadata": {},
     "output_type": "execute_result"
    }
   ],
   "source": [
    "df = df.drop(columns='Unnamed: 0', axis=0)\n",
    "df.describe(include='all')"
   ]
  },
  {
   "cell_type": "code",
   "execution_count": 5,
   "id": "5fe619db",
   "metadata": {},
   "outputs": [
    {
     "data": {
      "text/html": [
       "<div>\n",
       "<style scoped>\n",
       "    .dataframe tbody tr th:only-of-type {\n",
       "        vertical-align: middle;\n",
       "    }\n",
       "\n",
       "    .dataframe tbody tr th {\n",
       "        vertical-align: top;\n",
       "    }\n",
       "\n",
       "    .dataframe thead th {\n",
       "        text-align: right;\n",
       "    }\n",
       "</style>\n",
       "<table border=\"1\" class=\"dataframe\">\n",
       "  <thead>\n",
       "    <tr style=\"text-align: right;\">\n",
       "      <th></th>\n",
       "      <th>text</th>\n",
       "      <th>class</th>\n",
       "    </tr>\n",
       "  </thead>\n",
       "  <tbody>\n",
       "    <tr>\n",
       "      <th>187881</th>\n",
       "      <td>I love you all Ok, so I’ll be honest, I have b...</td>\n",
       "      <td>non-suicide</td>\n",
       "    </tr>\n",
       "    <tr>\n",
       "      <th>124270</th>\n",
       "      <td>Anyone think nothingness would be easier?The m...</td>\n",
       "      <td>suicide</td>\n",
       "    </tr>\n",
       "    <tr>\n",
       "      <th>12204</th>\n",
       "      <td>Any chill community? Chill community for lgbt ...</td>\n",
       "      <td>non-suicide</td>\n",
       "    </tr>\n",
       "    <tr>\n",
       "      <th>124429</th>\n",
       "      <td>I'm scaredI think I may be depressed. I've bot...</td>\n",
       "      <td>suicide</td>\n",
       "    </tr>\n",
       "    <tr>\n",
       "      <th>75679</th>\n",
       "      <td>I don't know anymore Life has been a shit hole...</td>\n",
       "      <td>non-suicide</td>\n",
       "    </tr>\n",
       "    <tr>\n",
       "      <th>62496</th>\n",
       "      <td>Absolute failureI flunked out of college 3 yea...</td>\n",
       "      <td>suicide</td>\n",
       "    </tr>\n",
       "  </tbody>\n",
       "</table>\n",
       "</div>"
      ],
      "text/plain": [
       "                                                     text        class\n",
       "187881  I love you all Ok, so I’ll be honest, I have b...  non-suicide\n",
       "124270  Anyone think nothingness would be easier?The m...      suicide\n",
       "12204   Any chill community? Chill community for lgbt ...  non-suicide\n",
       "124429  I'm scaredI think I may be depressed. I've bot...      suicide\n",
       "75679   I don't know anymore Life has been a shit hole...  non-suicide\n",
       "62496   Absolute failureI flunked out of college 3 yea...      suicide"
      ]
     },
     "execution_count": 5,
     "metadata": {},
     "output_type": "execute_result"
    }
   ],
   "source": [
    "df.sample(6)"
   ]
  },
  {
   "cell_type": "code",
   "execution_count": 6,
   "id": "663683ab",
   "metadata": {},
   "outputs": [
    {
     "data": {
      "image/png": "[encoded data removed]",
      "text/plain": [
       "<Figure size 800x400 with 1 Axes>"
      ]
     },
     "metadata": {},
     "output_type": "display_data"
    }
   ],
   "source": [
    "with plt.style.context('seaborn-v0_8-darkgrid'):\n",
    "    fig, ax = plt.subplots(figsize=(8, 4), facecolor='#444444')\n",
    "    bars = df['class'].value_counts().plot(kind='bar', ax=ax, color='#1f77b4', edgecolor='white')\n",
    "\n",
    "    ax.set_title('Class Distribution', fontsize=16, color='white', weight='bold')\n",
    "    ax.set_xlabel('Class', fontsize=12, color='white')\n",
    "    ax.set_ylabel('Count', fontsize=12, color='white')\n",
    "\n",
    "    ax.tick_params(colors='white')\n",
    "    ax.set_facecolor('#2c2c2c')\n",
    "    fig.patch.set_facecolor('#2c2c2c')\n",
    "\n",
    "    plt.tight_layout()\n",
    "    plt.savefig('../Outputs/Images/class_distribution')\n",
    "    plt.show()"
   ]
  },
  {
   "cell_type": "markdown",
   "id": "a6ff8167",
   "metadata": {},
   "source": [
    "## Text Cleaning & Quality Inspection"
   ]
  },
  {
   "cell_type": "code",
   "execution_count": 7,
   "id": "e27baaa2",
   "metadata": {},
   "outputs": [],
   "source": [
    "import re\n",
    "import emoji\n",
    "\n",
    "emoji_pattern = re.compile(\"[\"\n",
    "         u\"\\U0001F600-\\U0001F64F\"  # emoticons\n",
    "         u\"\\U0001F300-\\U0001F5FF\"  # symbols & pictographs\n",
    "         u\"\\U0001F680-\\U0001F6FF\"  # transport & map symbols\n",
    "         u\"\\U0001F1E0-\\U0001F1FF\"  # flags\n",
    "         \"]+\", flags=re.UNICODE)"
   ]
  },
  {
   "cell_type": "code",
   "execution_count": 8,
   "id": "95a74fad",
   "metadata": {},
   "outputs": [],
   "source": [
    "def summary_text(df, save = False):\n",
    "    \"\"\"Generate a summary of the text column in the DataFrame.\"\"\"\n",
    "    total_texts = df['text'].count()\n",
    "\n",
    "    nulls = df['text'].isnull().sum()\n",
    "\n",
    "    empty_texts = (df['text'].str.strip() == '').sum()\n",
    "\n",
    "    duplicates = df.duplicated(subset='text').sum()\n",
    "\n",
    "    newline_counts =(df['text'].str.contains('\\n')).sum()\n",
    "\n",
    "    tabular_counts = (df['text'].str.contains('\\t')).sum()\n",
    "\n",
    "    double_spaces = (df['text'].str.contains('  ')).sum()\n",
    "\n",
    "    emojis_counts = df['text'].str.contains(emoji_pattern).sum()\n",
    "\n",
    "    html_counts = df['text'].str.contains('<.*?>').sum()\n",
    "\n",
    "    df_quality = pd.DataFrame({\n",
    "        'Total Texts': [total_texts],\n",
    "        'Nulls': [nulls],\n",
    "        'Empty Texts': [empty_texts],\n",
    "        'Duplicates': [duplicates],\n",
    "        'Newlines': [newline_counts],\n",
    "        'Tabs': [tabular_counts],\n",
    "        'Double Spaces': [double_spaces],\n",
    "        'Emojis': [emojis_counts],\n",
    "        'HTML Tags': [html_counts]\n",
    "    })\n",
    "    df_quality.index = ['Quality Issues']\n",
    "    df_quality = df_quality.T\n",
    "\n",
    "    if save:\n",
    "        df_quality.to_csv('../Outputs/Tables/quality_inspection.csv')\n",
    "\n",
    "    print(df_quality)\n"
   ]
  },
  {
   "cell_type": "code",
   "execution_count": 9,
   "id": "02e93032",
   "metadata": {},
   "outputs": [
    {
     "name": "stdout",
     "output_type": "stream",
     "text": [
      "               Quality Issues\n",
      "Total Texts            232074\n",
      "Nulls                       0\n",
      "Empty Texts                 0\n",
      "Duplicates                  0\n",
      "Newlines                97638\n",
      "Tabs                       88\n",
      "Double Spaces           26871\n",
      "Emojis                   8254\n",
      "HTML Tags                   0\n"
     ]
    }
   ],
   "source": [
    "summary_text(df, save=True)"
   ]
  },
  {
   "cell_type": "code",
   "execution_count": 10,
   "id": "e2206ef8",
   "metadata": {},
   "outputs": [],
   "source": [
    "def text_cleaning(text):\n",
    "    \"\"\"Clean the input text by removing newlines and tabs, and replace emojis with text placeholders.\"\"\"\n",
    "    text = text.replace('\\n', ' ').replace('\\t', ' ')\n",
    "    text = emoji.demojize(text)\n",
    "    text = text.strip()\n",
    "    text = text.lower()\n",
    "    text = re.sub(emoji_pattern, '', text)\n",
    "    text = re.sub(r'\\s+', ' ', text)\n",
    "    return text"
   ]
  },
  {
   "cell_type": "code",
   "execution_count": 11,
   "id": "6c63c975",
   "metadata": {},
   "outputs": [],
   "source": [
    "df['text'] = (df['text'].apply(text_cleaning))\n",
    "df = df[df['text'].str.strip() != '']\n",
    "df = df.drop_duplicates(subset='text')"
   ]
  },
  {
   "cell_type": "code",
   "execution_count": 12,
   "id": "f040dab9",
   "metadata": {},
   "outputs": [
    {
     "name": "stdout",
     "output_type": "stream",
     "text": [
      "               Quality Issues\n",
      "Total Texts            231979\n",
      "Nulls                       0\n",
      "Empty Texts                 0\n",
      "Duplicates                  0\n",
      "Newlines                    0\n",
      "Tabs                        0\n",
      "Double Spaces               0\n",
      "Emojis                      0\n",
      "HTML Tags                   0\n"
     ]
    }
   ],
   "source": [
    "summary_text(df)"
   ]
  },
  {
   "cell_type": "code",
   "execution_count": 13,
   "id": "a49f002d",
   "metadata": {},
   "outputs": [],
   "source": [
    "df.to_parquet('../Data/cleaned_suicide_detection.parquet', index=False)"
   ]
  },
  {
   "cell_type": "markdown",
   "id": "b4f0ed42",
   "metadata": {},
   "source": [
    "## Textual Structure Analysis"
   ]
  },
  {
   "cell_type": "code",
   "execution_count": null,
   "id": "a53e5f96",
   "metadata": {},
   "outputs": [],
   "source": [
    "import pandas as pd\n",
    "import matplotlib.pyplot\n",
    "import seaborn as sns"
   ]
  },
  {
   "cell_type": "code",
   "execution_count": null,
   "id": "6c95d75c",
   "metadata": {},
   "outputs": [],
   "source": [
    "df = pd.read_parquet('../Data/cleaned_suicide_detection.parquet')"
   ]
  }
 ],
 "metadata": {
  "kernelspec": {
   "display_name": "mental-health-nlp",
   "language": "python",
   "name": "python3"
  },
  "language_info": {
   "codemirror_mode": {
    "name": "ipython",
    "version": 3
   },
   "file_extension": ".py",
   "mimetype": "text/x-python",
   "name": "python",
   "nbconvert_exporter": "python",
   "pygments_lexer": "ipython3",
   "version": "3.10.13"
  }
 },
 "nbformat": 4,
 "nbformat_minor": 5
}
