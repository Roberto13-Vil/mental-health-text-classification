{
 "cells": [
  {
   "cell_type": "markdown",
   "id": "489d3f74",
   "metadata": {},
   "source": [
    "# Preprocessing Text Data"
   ]
  },
  {
   "cell_type": "code",
   "execution_count": 1,
   "id": "e20439c8",
   "metadata": {},
   "outputs": [],
   "source": [
    "import nltk\n",
    "import pandas as pd\n",
    "import numpy as np\n",
    "import string \n",
    "import re\n",
    "import contractions\n",
    "from nltk.stem import WordNetLemmatizer\n",
    "from nltk.corpus import stopwords\n",
    "from nltk.tokenize import word_tokenize\n",
    "from gensim.models import Word2Vec"
   ]
  },
  {
   "cell_type": "code",
   "execution_count": 2,
   "id": "fc2ef686",
   "metadata": {},
   "outputs": [
    {
     "name": "stderr",
     "output_type": "stream",
     "text": [
      "[nltk_data] Downloading package stopwords to\n",
      "[nltk_data]     /home/roberto/nltk_data...\n",
      "[nltk_data]   Package stopwords is already up-to-date!\n",
      "[nltk_data] Downloading package punkt to /home/roberto/nltk_data...\n",
      "[nltk_data]   Package punkt is already up-to-date!\n",
      "[nltk_data] Downloading package wordnet to /home/roberto/nltk_data...\n",
      "[nltk_data]   Package wordnet is already up-to-date!\n"
     ]
    },
    {
     "data": {
      "text/plain": [
       "True"
      ]
     },
     "execution_count": 2,
     "metadata": {},
     "output_type": "execute_result"
    }
   ],
   "source": [
    "nltk.download('stopwords')\n",
    "nltk.download('punkt')\n",
    "nltk.download('wordnet')"
   ]
  },
  {
   "cell_type": "code",
   "execution_count": 3,
   "id": "1d7be423",
   "metadata": {},
   "outputs": [],
   "source": [
    "df = pd.read_parquet('../Data/cleaned_suicide_detection.parquet')\n",
    "\n",
    "stopwords = set(stopwords.words('english'))\n",
    "lemmatizer = WordNetLemmatizer()"
   ]
  },
  {
   "cell_type": "code",
   "execution_count": 4,
   "id": "9eb57b1c",
   "metadata": {},
   "outputs": [],
   "source": [
    "def preprocessing(text):\n",
    "    \"\"\"Apply preprocessing steps to prepare text for classification\"\"\"\n",
    "\n",
    "    text = contractions.fix(text)\n",
    "    text = re.sub(r'\\d+', '', text)\n",
    "    text = text.translate(str.maketrans('', '', string.punctuation))\n",
    "    text = re.sub(r'[_\\W]+', ' ', text)\n",
    "    tokens = word_tokenize(text)\n",
    "    tokens = [word for word in tokens if word not in stopwords]\n",
    "    tokens = [lemmatizer.lemmatize(word) for word in tokens]\n",
    "\n",
    "    return tokens"
   ]
  },
  {
   "cell_type": "code",
   "execution_count": 5,
   "id": "ed31df15",
   "metadata": {},
   "outputs": [
    {
     "data": {
      "text/html": [
       "<div>\n",
       "<style scoped>\n",
       "    .dataframe tbody tr th:only-of-type {\n",
       "        vertical-align: middle;\n",
       "    }\n",
       "\n",
       "    .dataframe tbody tr th {\n",
       "        vertical-align: top;\n",
       "    }\n",
       "\n",
       "    .dataframe thead th {\n",
       "        text-align: right;\n",
       "    }\n",
       "</style>\n",
       "<table border=\"1\" class=\"dataframe\">\n",
       "  <thead>\n",
       "    <tr style=\"text-align: right;\">\n",
       "      <th></th>\n",
       "      <th>text</th>\n",
       "      <th>class</th>\n",
       "    </tr>\n",
       "  </thead>\n",
       "  <tbody>\n",
       "    <tr>\n",
       "      <th>74503</th>\n",
       "      <td>[rteenagers, please, help, thesis, hey, guy, b...</td>\n",
       "      <td>non-suicide</td>\n",
       "    </tr>\n",
       "    <tr>\n",
       "      <th>189213</th>\n",
       "      <td>[music, suggestion, please, like, everything, ...</td>\n",
       "      <td>non-suicide</td>\n",
       "    </tr>\n",
       "    <tr>\n",
       "      <th>153796</th>\n",
       "      <td>[herei, know, type, post, allowed, come, subre...</td>\n",
       "      <td>suicide</td>\n",
       "    </tr>\n",
       "    <tr>\n",
       "      <th>131761</th>\n",
       "      <td>[downvote, post, reason, know]</td>\n",
       "      <td>non-suicide</td>\n",
       "    </tr>\n",
       "    <tr>\n",
       "      <th>27706</th>\n",
       "      <td>[fuck, hopping, bandwagon, httpsmusictastespac...</td>\n",
       "      <td>non-suicide</td>\n",
       "    </tr>\n",
       "  </tbody>\n",
       "</table>\n",
       "</div>"
      ],
      "text/plain": [
       "                                                     text        class\n",
       "74503   [rteenagers, please, help, thesis, hey, guy, b...  non-suicide\n",
       "189213  [music, suggestion, please, like, everything, ...  non-suicide\n",
       "153796  [herei, know, type, post, allowed, come, subre...      suicide\n",
       "131761                     [downvote, post, reason, know]  non-suicide\n",
       "27706   [fuck, hopping, bandwagon, httpsmusictastespac...  non-suicide"
      ]
     },
     "execution_count": 5,
     "metadata": {},
     "output_type": "execute_result"
    }
   ],
   "source": [
    "df['text'] = df['text'].apply(preprocessing)\n",
    "\n",
    "df.sample(5)"
   ]
  },
  {
   "cell_type": "code",
   "execution_count": 6,
   "id": "67732703",
   "metadata": {},
   "outputs": [
    {
     "data": {
      "text/plain": [
       "count    231979.000000\n",
       "mean         59.129456\n",
       "std         100.364899\n",
       "min           0.000000\n",
       "25%          13.000000\n",
       "50%          28.000000\n",
       "75%          69.000000\n",
       "max        5717.000000\n",
       "Name: text, dtype: float64"
      ]
     },
     "execution_count": 6,
     "metadata": {},
     "output_type": "execute_result"
    }
   ],
   "source": [
    "tokens_count = df['text'].apply(len)\n",
    "tokens_count.describe()"
   ]
  },
  {
   "cell_type": "code",
   "execution_count": 7,
   "id": "050cab04",
   "metadata": {},
   "outputs": [],
   "source": [
    "vectorizer = Word2Vec(\n",
    "    sentences = df['text'],\n",
    "    vector_size = 150,\n",
    "    window = 5,\n",
    "    min_count = 3,\n",
    "    sg = 1,\n",
    "    seed = 13,\n",
    "    workers = 10\n",
    ")\n",
    "\n",
    "def vectorize_doc(doc, model):\n",
    "    vectors = [model.wv[word] for word in doc if word in model.wv]\n",
    "    if len(vectors) == 0:\n",
    "        return np.zeros(model.vector_size)\n",
    "    return np.mean(vectors, axis=0)"
   ]
  },
  {
   "cell_type": "code",
   "execution_count": 8,
   "id": "9e2d924d",
   "metadata": {},
   "outputs": [
    {
     "data": {
      "text/html": [
       "<div>\n",
       "<style scoped>\n",
       "    .dataframe tbody tr th:only-of-type {\n",
       "        vertical-align: middle;\n",
       "    }\n",
       "\n",
       "    .dataframe tbody tr th {\n",
       "        vertical-align: top;\n",
       "    }\n",
       "\n",
       "    .dataframe thead th {\n",
       "        text-align: right;\n",
       "    }\n",
       "</style>\n",
       "<table border=\"1\" class=\"dataframe\">\n",
       "  <thead>\n",
       "    <tr style=\"text-align: right;\">\n",
       "      <th></th>\n",
       "      <th>text</th>\n",
       "      <th>class</th>\n",
       "    </tr>\n",
       "  </thead>\n",
       "  <tbody>\n",
       "    <tr>\n",
       "      <th>31535</th>\n",
       "      <td>[-0.134375661611557, -0.04869122430682182, 0.1...</td>\n",
       "      <td>0</td>\n",
       "    </tr>\n",
       "    <tr>\n",
       "      <th>8156</th>\n",
       "      <td>[0.02591336891055107, 0.0018674135208129883, 0...</td>\n",
       "      <td>0</td>\n",
       "    </tr>\n",
       "    <tr>\n",
       "      <th>92721</th>\n",
       "      <td>[-0.11975962668657303, 0.010417267680168152, 0...</td>\n",
       "      <td>0</td>\n",
       "    </tr>\n",
       "    <tr>\n",
       "      <th>12735</th>\n",
       "      <td>[-0.03838827833533287, -0.07487594336271286, 0...</td>\n",
       "      <td>0</td>\n",
       "    </tr>\n",
       "    <tr>\n",
       "      <th>122482</th>\n",
       "      <td>[0.08334995806217194, 0.0761137306690216, 0.03...</td>\n",
       "      <td>1</td>\n",
       "    </tr>\n",
       "  </tbody>\n",
       "</table>\n",
       "</div>"
      ],
      "text/plain": [
       "                                                     text  class\n",
       "31535   [-0.134375661611557, -0.04869122430682182, 0.1...      0\n",
       "8156    [0.02591336891055107, 0.0018674135208129883, 0...      0\n",
       "92721   [-0.11975962668657303, 0.010417267680168152, 0...      0\n",
       "12735   [-0.03838827833533287, -0.07487594336271286, 0...      0\n",
       "122482  [0.08334995806217194, 0.0761137306690216, 0.03...      1"
      ]
     },
     "execution_count": 8,
     "metadata": {},
     "output_type": "execute_result"
    }
   ],
   "source": [
    "df['text'] = df['text'].apply(lambda tokens: vectorize_doc(tokens, vectorizer))\n",
    "df['text'] = df['text'].apply(lambda arr: [float(x) for x in np.array(arr, dtype=np.float64)])\n",
    "df['class'] = df['class'].map({'non-suicide': 0, 'suicide': 1})\n",
    "df.sample(5)"
   ]
  },
  {
   "cell_type": "code",
   "execution_count": 10,
   "id": "c5da7393",
   "metadata": {},
   "outputs": [],
   "source": [
    "df.to_parquet('../Data/preprocessing_data.parquet')\n",
    "vectorizer.save('../Outputs/Models/Vectorizer.model')"
   ]
  }
 ],
 "metadata": {
  "kernelspec": {
   "display_name": "mental-health-nlp",
   "language": "python",
   "name": "python3"
  },
  "language_info": {
   "codemirror_mode": {
    "name": "ipython",
    "version": 3
   },
   "file_extension": ".py",
   "mimetype": "text/x-python",
   "name": "python",
   "nbconvert_exporter": "python",
   "pygments_lexer": "ipython3",
   "version": "3.10.13"
  }
 },
 "nbformat": 4,
 "nbformat_minor": 5
}
