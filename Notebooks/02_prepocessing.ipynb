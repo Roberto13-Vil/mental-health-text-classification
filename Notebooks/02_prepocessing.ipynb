{
 "cells": [
  {
   "cell_type": "markdown",
   "id": "489d3f74",
   "metadata": {},
   "source": [
    "# Preprocessing Text Data"
   ]
  },
  {
   "cell_type": "code",
   "execution_count": 12,
   "id": "e20439c8",
   "metadata": {},
   "outputs": [],
   "source": [
    "import nltk\n",
    "import pandas as pd\n",
    "import numpy as np\n",
    "import string \n",
    "import re\n",
    "import contractions\n",
    "from nltk.stem import WordNetLemmatizer\n",
    "from nltk.corpus import stopwords\n",
    "from nltk.tokenize import word_tokenize\n",
    "from gensim.models import Word2Vec"
   ]
  },
  {
   "cell_type": "code",
   "execution_count": 3,
   "id": "fc2ef686",
   "metadata": {},
   "outputs": [
    {
     "name": "stderr",
     "output_type": "stream",
     "text": [
      "[nltk_data] Downloading package stopwords to\n",
      "[nltk_data]     /home/roberto/nltk_data...\n",
      "[nltk_data]   Package stopwords is already up-to-date!\n",
      "[nltk_data] Downloading package punkt to /home/roberto/nltk_data...\n",
      "[nltk_data]   Unzipping tokenizers/punkt.zip.\n",
      "[nltk_data] Downloading package wordnet to /home/roberto/nltk_data...\n",
      "[nltk_data]   Package wordnet is already up-to-date!\n"
     ]
    },
    {
     "data": {
      "text/plain": [
       "True"
      ]
     },
     "execution_count": 3,
     "metadata": {},
     "output_type": "execute_result"
    }
   ],
   "source": [
    "nltk.download('stopwords')\n",
    "nltk.download('punkt')\n",
    "nltk.download('wordnet')"
   ]
  },
  {
   "cell_type": "code",
   "execution_count": 4,
   "id": "1d7be423",
   "metadata": {},
   "outputs": [],
   "source": [
    "df = pd.read_parquet('../Data/cleaned_suicide_detection.parquet')\n",
    "\n",
    "stopwords = set(stopwords.words('english'))\n",
    "lemmatizer = WordNetLemmatizer()"
   ]
  },
  {
   "cell_type": "code",
   "execution_count": 5,
   "id": "9eb57b1c",
   "metadata": {},
   "outputs": [],
   "source": [
    "def preprocessing(text):\n",
    "    \"\"\"Apply preprocessing steps to prepare text for classification\"\"\"\n",
    "\n",
    "    text = contractions.fix(text)\n",
    "    text = re.sub(r'\\d+', '', text)\n",
    "    text = text.translate(str.maketrans('', '', string.punctuation))\n",
    "    text = re.sub(r'[_\\W]+', ' ', text)\n",
    "    tokens = word_tokenize(text)\n",
    "    tokens = [word for word in tokens if word not in stopwords]\n",
    "    tokens = [lemmatizer.lemmatize(word) for word in tokens]\n",
    "\n",
    "    return tokens"
   ]
  },
  {
   "cell_type": "code",
   "execution_count": 7,
   "id": "ed31df15",
   "metadata": {},
   "outputs": [
    {
     "data": {
      "text/html": [
       "<div>\n",
       "<style scoped>\n",
       "    .dataframe tbody tr th:only-of-type {\n",
       "        vertical-align: middle;\n",
       "    }\n",
       "\n",
       "    .dataframe tbody tr th {\n",
       "        vertical-align: top;\n",
       "    }\n",
       "\n",
       "    .dataframe thead th {\n",
       "        text-align: right;\n",
       "    }\n",
       "</style>\n",
       "<table border=\"1\" class=\"dataframe\">\n",
       "  <thead>\n",
       "    <tr style=\"text-align: right;\">\n",
       "      <th></th>\n",
       "      <th>text</th>\n",
       "      <th>class</th>\n",
       "    </tr>\n",
       "  </thead>\n",
       "  <tbody>\n",
       "    <tr>\n",
       "      <th>10066</th>\n",
       "      <td>[unpopular, opinion, sugar, cooky, better, cho...</td>\n",
       "      <td>non-suicide</td>\n",
       "    </tr>\n",
       "    <tr>\n",
       "      <th>124461</th>\n",
       "      <td>[help, anyone, going, kind, long, letting, kno...</td>\n",
       "      <td>non-suicide</td>\n",
       "    </tr>\n",
       "    <tr>\n",
       "      <th>80604</th>\n",
       "      <td>[came, everyone, talked, mom, school, posted, ...</td>\n",
       "      <td>non-suicide</td>\n",
       "    </tr>\n",
       "    <tr>\n",
       "      <th>117600</th>\n",
       "      <td>[want, okso, wanting, die, like, fucking, lose...</td>\n",
       "      <td>suicide</td>\n",
       "    </tr>\n",
       "    <tr>\n",
       "      <th>187188</th>\n",
       "      <td>[considering, suicidei, full, time, student, k...</td>\n",
       "      <td>suicide</td>\n",
       "    </tr>\n",
       "  </tbody>\n",
       "</table>\n",
       "</div>"
      ],
      "text/plain": [
       "                                                     text        class\n",
       "10066   [unpopular, opinion, sugar, cooky, better, cho...  non-suicide\n",
       "124461  [help, anyone, going, kind, long, letting, kno...  non-suicide\n",
       "80604   [came, everyone, talked, mom, school, posted, ...  non-suicide\n",
       "117600  [want, okso, wanting, die, like, fucking, lose...      suicide\n",
       "187188  [considering, suicidei, full, time, student, k...      suicide"
      ]
     },
     "execution_count": 7,
     "metadata": {},
     "output_type": "execute_result"
    }
   ],
   "source": [
    "df['text'] = df['text'].apply(preprocessing)\n",
    "\n",
    "df.sample(5)"
   ]
  },
  {
   "cell_type": "code",
   "execution_count": 10,
   "id": "67732703",
   "metadata": {},
   "outputs": [
    {
     "data": {
      "text/plain": [
       "count    231979.000000\n",
       "mean         59.129456\n",
       "std         100.364899\n",
       "min           0.000000\n",
       "25%          13.000000\n",
       "50%          28.000000\n",
       "75%          69.000000\n",
       "max        5717.000000\n",
       "Name: text, dtype: float64"
      ]
     },
     "execution_count": 10,
     "metadata": {},
     "output_type": "execute_result"
    }
   ],
   "source": [
    "tokens_count = df['text'].apply(len)\n",
    "tokens_count.describe()"
   ]
  },
  {
   "cell_type": "code",
   "execution_count": 13,
   "id": "050cab04",
   "metadata": {},
   "outputs": [],
   "source": [
    "vectorizer = Word2Vec(\n",
    "    sentences = df['text'],\n",
    "    vector_size = 150,\n",
    "    window = 5,\n",
    "    min_count = 3,\n",
    "    sg = 1,\n",
    "    seed = 13,\n",
    "    workers = 10\n",
    ")\n",
    "\n",
    "def vectorize_doc(doc, model):\n",
    "    vectors = [model.wv[word] for word in doc if word in model.wv]\n",
    "    if len(vectors) == 0:\n",
    "        return np.zeros(model.vector_size)\n",
    "    return np.mean(vectors, axis=0)"
   ]
  },
  {
   "cell_type": "code",
   "execution_count": null,
   "id": "9e2d924d",
   "metadata": {},
   "outputs": [
    {
     "data": {
      "text/html": [
       "<div>\n",
       "<style scoped>\n",
       "    .dataframe tbody tr th:only-of-type {\n",
       "        vertical-align: middle;\n",
       "    }\n",
       "\n",
       "    .dataframe tbody tr th {\n",
       "        vertical-align: top;\n",
       "    }\n",
       "\n",
       "    .dataframe thead th {\n",
       "        text-align: right;\n",
       "    }\n",
       "</style>\n",
       "<table border=\"1\" class=\"dataframe\">\n",
       "  <thead>\n",
       "    <tr style=\"text-align: right;\">\n",
       "      <th></th>\n",
       "      <th>text</th>\n",
       "      <th>class</th>\n",
       "    </tr>\n",
       "  </thead>\n",
       "  <tbody>\n",
       "    <tr>\n",
       "      <th>224665</th>\n",
       "      <td>[0.13732357, -0.016881073, 0.10697746, -0.0657...</td>\n",
       "      <td>1</td>\n",
       "    </tr>\n",
       "    <tr>\n",
       "      <th>8828</th>\n",
       "      <td>[0.07704612, -0.02935385, 0.10011502, -0.15534...</td>\n",
       "      <td>1</td>\n",
       "    </tr>\n",
       "    <tr>\n",
       "      <th>159472</th>\n",
       "      <td>[0.050362483, 0.03871868, 0.104064636, 0.00309...</td>\n",
       "      <td>0</td>\n",
       "    </tr>\n",
       "    <tr>\n",
       "      <th>141778</th>\n",
       "      <td>[0.008742183, -0.08327679, 0.092561945, -0.011...</td>\n",
       "      <td>0</td>\n",
       "    </tr>\n",
       "    <tr>\n",
       "      <th>150841</th>\n",
       "      <td>[0.04087665, 0.023715034, 0.18240535, -0.05154...</td>\n",
       "      <td>0</td>\n",
       "    </tr>\n",
       "  </tbody>\n",
       "</table>\n",
       "</div>"
      ],
      "text/plain": [
       "                                                     text  class\n",
       "224665  [0.13732357, -0.016881073, 0.10697746, -0.0657...      1\n",
       "8828    [0.07704612, -0.02935385, 0.10011502, -0.15534...      1\n",
       "159472  [0.050362483, 0.03871868, 0.104064636, 0.00309...      0\n",
       "141778  [0.008742183, -0.08327679, 0.092561945, -0.011...      0\n",
       "150841  [0.04087665, 0.023715034, 0.18240535, -0.05154...      0"
      ]
     },
     "execution_count": 14,
     "metadata": {},
     "output_type": "execute_result"
    }
   ],
   "source": [
    "df['text'] = df['text'].apply(lambda tokens: vectorize_doc(tokens, vectorizer))\n",
    "df['text'] = df['text'].apply(lambda arr: [float(x) for x in np.array(arr, dtype=np.float64)])\n",
    "df['class'] = df['class'].map({'non-suicide': 0, 'suicide': 1})\n",
    "df.sample(5)"
   ]
  },
  {
   "cell_type": "code",
   "execution_count": null,
   "id": "c5da7393",
   "metadata": {},
   "outputs": [],
   "source": [
    "df.to_parquet('../Data/preprocessing_data.parquet')"
   ]
  }
 ],
 "metadata": {
  "kernelspec": {
   "display_name": "mental-health-nlp",
   "language": "python",
   "name": "python3"
  },
  "language_info": {
   "codemirror_mode": {
    "name": "ipython",
    "version": 3
   },
   "file_extension": ".py",
   "mimetype": "text/x-python",
   "name": "python",
   "nbconvert_exporter": "python",
   "pygments_lexer": "ipython3",
   "version": "3.10.13"
  }
 },
 "nbformat": 4,
 "nbformat_minor": 5
}
